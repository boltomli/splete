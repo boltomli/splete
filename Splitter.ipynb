{
 "cells": [
  {
   "cell_type": "markdown",
   "metadata": {},
   "source": [
    "# Split voices from audio\n",
    "\n",
    "## Dependency\n",
    "\n",
    "* [Spleeter from Deezer](https://github.com/deezer/spleeter)\n",
    "  * Python 3\n",
    "  * ffmpeg\n",
    "* [This notebook](https://github.com/boltomli/spleter)"
   ]
  },
  {
   "cell_type": "code",
   "execution_count": null,
   "metadata": {},
   "outputs": [],
   "source": [
    "import os\n",
    "from spleeter.utils.audio.adapter import get_default_audio_adapter\n",
    "from spleeter.separator import Separator\n",
    "from IPython.display import Audio"
   ]
  },
  {
   "cell_type": "code",
   "execution_count": null,
   "metadata": {},
   "outputs": [],
   "source": [
    "!wget -c https://github.com/deezer/spleeter/raw/master/audio_example.mp3 # Skip this step if using your own audio\n",
    "Audio('audio_example.mp3') # Update file name accordingly in the next cells"
   ]
  },
  {
   "cell_type": "code",
   "execution_count": null,
   "metadata": {},
   "outputs": [],
   "source": [
    "audio_loader = get_default_audio_adapter()\n",
    "\n",
    "\n",
    "def load_audio(audio_file):\n",
    "    waveform, rate = audio_loader.load(audio_file)\n",
    "    return waveform, rate\n",
    "\n",
    "\n",
    "def separate(waveform):\n",
    "    separator = Separator('spleeter:2stems')\n",
    "    return separator.separate(waveform)\n",
    "\n",
    "\n",
    "def save_audio(path, instrument, data, rate):\n",
    "    audio_loader.save(os.path.join(path, f'{instrument}.wav'), data, rate, 'wav', '128k')"
   ]
  },
  {
   "cell_type": "code",
   "execution_count": null,
   "metadata": {},
   "outputs": [],
   "source": [
    "waveform, rate = load_audio('audio_example.mp3')\n",
    "result = separate(waveform)\n",
    "instruments = []\n",
    "for instrument, data in result.items():\n",
    "    save_audio('output', instrument, data, rate)\n",
    "    instruments.append(instrument)"
   ]
  },
  {
   "cell_type": "code",
   "execution_count": null,
   "metadata": {},
   "outputs": [],
   "source": [
    "print(instruments)\n",
    "Audio(os.path.join('output', 'accompaniment.wav'))"
   ]
  }
 ],
 "metadata": {
  "kernelspec": {
   "display_name": "Python 3",
   "language": "python",
   "name": "python3"
  },
  "language_info": {
   "codemirror_mode": {
    "name": "ipython",
    "version": 3
   },
   "file_extension": ".py",
   "mimetype": "text/x-python",
   "name": "python",
   "nbconvert_exporter": "python",
   "pygments_lexer": "ipython3",
   "version": "3.7.5"
  }
 },
 "nbformat": 4,
 "nbformat_minor": 2
}
