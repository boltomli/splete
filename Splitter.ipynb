{
 "cells": [
  {
   "cell_type": "markdown",
   "metadata": {},
   "source": [
    "# Split voices from audio\n",
    "\n",
    "## Dependency\n",
    "\n",
    "* [Spleeter from Deezer](https://github.com/deezer/spleeter)\n",
    "  * Python 3\n",
    "  * ffmpeg\n",
    "* [This notebook](https://github.com/boltomli/spleter)"
   ]
  },
  {
   "cell_type": "code",
   "execution_count": null,
   "metadata": {},
   "outputs": [],
   "source": [
    "import os\n",
    "import shutil\n",
    "import subprocess\n",
    "import sys\n",
    "\n",
    "if (not shutil.which('spleeter')):\n",
    "    subprocess.check_call([sys.executable, '-m', 'pip', 'install', 'spleeter'])\n",
    "\n",
    "os.environ['PATH'] = os.environ['PATH']+':.'\n",
    "if (not shutil.which('ffprobe')):\n",
    "    subprocess.check_call(['wget', '-c', 'https://johnvansickle.com/ffmpeg/releases/ffmpeg-release-amd64-static.tar.xz'])\n",
    "    subprocess.check_call(['tar', 'xf', 'ffmpeg-release-amd64-static.tar.xz', '--strip-components=1'])\n",
    "\n",
    "from IPython.display import Audio"
   ]
  },
  {
   "cell_type": "code",
   "execution_count": null,
   "metadata": {},
   "outputs": [],
   "source": [
    "!wget -c https://github.com/deezer/spleeter/raw/master/audio_example.mp3 # Skip this step if using your own audio\n",
    "Audio('audio_example.mp3') # Update file name accordingly for the next cell as well"
   ]
  },
  {
   "cell_type": "code",
   "execution_count": null,
   "metadata": {},
   "outputs": [],
   "source": [
    "!spleeter separate -i audio_example.mp3 -o output/\n",
    "Audio('output/audio_example/accompaniment.wav')"
   ]
  }
 ],
 "metadata": {
  "kernelspec": {
   "display_name": "Python 3",
   "language": "python",
   "name": "python3"
  },
  "language_info": {
   "codemirror_mode": {
    "name": "ipython",
    "version": 3
   },
   "file_extension": ".py",
   "mimetype": "text/x-python",
   "name": "python",
   "nbconvert_exporter": "python",
   "pygments_lexer": "ipython3",
   "version": "3.7.5"
  }
 },
 "nbformat": 4,
 "nbformat_minor": 2
}
